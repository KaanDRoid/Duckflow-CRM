{
 "cells": [
  {
   "cell_type": "markdown",
   "id": "053eca64",
   "metadata": {},
   "source": [
    "# HubSpot CRM Analysis: Fast Insights with DuckDB\n",
    "This notebook demonstrates data cleaning, enrichment, and visualization on a synthetic CRM dataset using DuckDB."
   ]
  },
  {
   "cell_type": "code",
   "execution_count": 1,
   "id": "2b757ab7",
   "metadata": {},
   "outputs": [],
   "source": [
    "# Import required libraries\n",
    "import duckdb\n",
    "import pandas as pd\n",
    "import matplotlib.pyplot as plt"
   ]
  },
  {
   "cell_type": "code",
   "execution_count": 2,
   "id": "2ade35fe",
   "metadata": {},
   "outputs": [],
   "source": [
    "# Create DuckDB connection\n",
    "conn = duckdb.connect(database=':memory:')"
   ]
  },
  {
   "cell_type": "code",
   "execution_count": 3,
   "id": "1f167ba9",
   "metadata": {},
   "outputs": [
    {
     "data": {
      "text/plain": [
       "<duckdb.duckdb.DuckDBPyConnection at 0x173e19917f0>"
      ]
     },
     "execution_count": 3,
     "metadata": {},
     "output_type": "execute_result"
    }
   ],
   "source": [
    "# Load CSV files and import into DuckDB\n",
    "conn.execute(\"CREATE TABLE contacts AS SELECT * FROM read_csv_auto('contacts.csv')\")\n",
    "conn.execute(\"CREATE TABLE deals AS SELECT * FROM read_csv_auto('deals.csv')\")"
   ]
  },
  {
   "cell_type": "markdown",
   "id": "2bb6e48c",
   "metadata": {},
   "source": [
    "## Data Cleaning\n",
    "Let's fix missing or corrupted values."
   ]
  },
  {
   "cell_type": "code",
   "execution_count": 4,
   "id": "405a53d1",
   "metadata": {},
   "outputs": [
    {
     "data": {
      "text/plain": [
       "<duckdb.duckdb.DuckDBPyConnection at 0x173e19917f0>"
      ]
     },
     "execution_count": 4,
     "metadata": {},
     "output_type": "execute_result"
    }
   ],
   "source": [
    "# Fill missing 'industry' values with 'Unknown'\n",
    "conn.execute(\"UPDATE contacts SET industry = 'Unknown' WHERE industry IS NULL\")\n",
    "# Set empty 'amount' values to 0\n",
    "conn.execute(\"UPDATE deals SET amount = 0 WHERE amount IS NULL\")"
   ]
  },
  {
   "cell_type": "markdown",
   "id": "0114c404",
   "metadata": {},
   "source": [
    "## Enrichment: Company Segmentation\n",
    "Add a segment based on company size."
   ]
  },
  {
   "cell_type": "code",
   "execution_count": 5,
   "id": "dd142076",
   "metadata": {},
   "outputs": [
    {
     "data": {
      "application/vnd.microsoft.datawrangler.viewer.v0+json": {
       "columns": [
        {
         "name": "index",
         "rawType": "int64",
         "type": "integer"
        },
        {
         "name": "contact_id",
         "rawType": "object",
         "type": "string"
        },
        {
         "name": "email",
         "rawType": "object",
         "type": "string"
        },
        {
         "name": "industry",
         "rawType": "object",
         "type": "string"
        },
        {
         "name": "created_at",
         "rawType": "datetime64[us]",
         "type": "unknown"
        },
        {
         "name": "owner",
         "rawType": "object",
         "type": "string"
        },
        {
         "name": "company_size",
         "rawType": "int64",
         "type": "integer"
        },
        {
         "name": "country",
         "rawType": "object",
         "type": "string"
        },
        {
         "name": "size_segment",
         "rawType": "object",
         "type": "string"
        }
       ],
       "ref": "6a283b0d-2cb3-4faf-9faf-fb917946f947",
       "rows": [
        [
         "0",
         "C0000",
         "user0@company.com",
         "Healthcare",
         "2024-01-12 00:00:00",
         "Diana",
         "195",
         "UK",
         "Enterprise"
        ],
        [
         "1",
         "C0001",
         "user1@company.com",
         "Unknown",
         "2024-08-20 00:00:00",
         "Diana",
         "257",
         "Germany",
         "Enterprise"
        ],
        [
         "2",
         "C0002",
         "user2@company.com",
         "Education",
         "2024-04-24 00:00:00",
         "Charlie",
         "473",
         "UK",
         "Enterprise"
        ],
        [
         "3",
         "C0003",
         "user3@company.com",
         "Finance",
         "2024-07-04 00:00:00",
         "Alice",
         "420",
         "France",
         "Enterprise"
        ],
        [
         "4",
         "C0004",
         "user4@company.com",
         "Technology",
         "2024-11-27 00:00:00",
         "Diana",
         "475",
         "Spain",
         "Enterprise"
        ]
       ],
       "shape": {
        "columns": 8,
        "rows": 5
       }
      },
      "text/html": [
       "<div>\n",
       "<style scoped>\n",
       "    .dataframe tbody tr th:only-of-type {\n",
       "        vertical-align: middle;\n",
       "    }\n",
       "\n",
       "    .dataframe tbody tr th {\n",
       "        vertical-align: top;\n",
       "    }\n",
       "\n",
       "    .dataframe thead th {\n",
       "        text-align: right;\n",
       "    }\n",
       "</style>\n",
       "<table border=\"1\" class=\"dataframe\">\n",
       "  <thead>\n",
       "    <tr style=\"text-align: right;\">\n",
       "      <th></th>\n",
       "      <th>contact_id</th>\n",
       "      <th>email</th>\n",
       "      <th>industry</th>\n",
       "      <th>created_at</th>\n",
       "      <th>owner</th>\n",
       "      <th>company_size</th>\n",
       "      <th>country</th>\n",
       "      <th>size_segment</th>\n",
       "    </tr>\n",
       "  </thead>\n",
       "  <tbody>\n",
       "    <tr>\n",
       "      <th>0</th>\n",
       "      <td>C0000</td>\n",
       "      <td>user0@company.com</td>\n",
       "      <td>Healthcare</td>\n",
       "      <td>2024-01-12</td>\n",
       "      <td>Diana</td>\n",
       "      <td>195</td>\n",
       "      <td>UK</td>\n",
       "      <td>Enterprise</td>\n",
       "    </tr>\n",
       "    <tr>\n",
       "      <th>1</th>\n",
       "      <td>C0001</td>\n",
       "      <td>user1@company.com</td>\n",
       "      <td>Unknown</td>\n",
       "      <td>2024-08-20</td>\n",
       "      <td>Diana</td>\n",
       "      <td>257</td>\n",
       "      <td>Germany</td>\n",
       "      <td>Enterprise</td>\n",
       "    </tr>\n",
       "    <tr>\n",
       "      <th>2</th>\n",
       "      <td>C0002</td>\n",
       "      <td>user2@company.com</td>\n",
       "      <td>Education</td>\n",
       "      <td>2024-04-24</td>\n",
       "      <td>Charlie</td>\n",
       "      <td>473</td>\n",
       "      <td>UK</td>\n",
       "      <td>Enterprise</td>\n",
       "    </tr>\n",
       "    <tr>\n",
       "      <th>3</th>\n",
       "      <td>C0003</td>\n",
       "      <td>user3@company.com</td>\n",
       "      <td>Finance</td>\n",
       "      <td>2024-07-04</td>\n",
       "      <td>Alice</td>\n",
       "      <td>420</td>\n",
       "      <td>France</td>\n",
       "      <td>Enterprise</td>\n",
       "    </tr>\n",
       "    <tr>\n",
       "      <th>4</th>\n",
       "      <td>C0004</td>\n",
       "      <td>user4@company.com</td>\n",
       "      <td>Technology</td>\n",
       "      <td>2024-11-27</td>\n",
       "      <td>Diana</td>\n",
       "      <td>475</td>\n",
       "      <td>Spain</td>\n",
       "      <td>Enterprise</td>\n",
       "    </tr>\n",
       "  </tbody>\n",
       "</table>\n",
       "</div>"
      ],
      "text/plain": [
       "  contact_id              email    industry created_at    owner  company_size  \\\n",
       "0      C0000  user0@company.com  Healthcare 2024-01-12    Diana           195   \n",
       "1      C0001  user1@company.com     Unknown 2024-08-20    Diana           257   \n",
       "2      C0002  user2@company.com   Education 2024-04-24  Charlie           473   \n",
       "3      C0003  user3@company.com     Finance 2024-07-04    Alice           420   \n",
       "4      C0004  user4@company.com  Technology 2024-11-27    Diana           475   \n",
       "\n",
       "   country size_segment  \n",
       "0       UK   Enterprise  \n",
       "1  Germany   Enterprise  \n",
       "2       UK   Enterprise  \n",
       "3   France   Enterprise  \n",
       "4    Spain   Enterprise  "
      ]
     },
     "execution_count": 5,
     "metadata": {},
     "output_type": "execute_result"
    }
   ],
   "source": [
    "# Segmentation query\n",
    "segment_query = '''\n",
    "SELECT *,\n",
    "  CASE \n",
    "    WHEN company_size <= 10 THEN 'Small'\n",
    "    WHEN company_size <= 50 THEN 'Medium'\n",
    "    ELSE 'Enterprise'\n",
    "  END AS size_segment\n",
    "FROM contacts\n",
    "'''\n",
    "segmented_contacts = conn.execute(segment_query).df()\n",
    "segmented_contacts.head()"
   ]
  },
  {
   "cell_type": "markdown",
   "id": "5fc8cf3d",
   "metadata": {},
   "source": [
    "## Visualization: Top Revenue-Generating Industries"
   ]
  },
  {
   "cell_type": "code",
   "execution_count": 6,
   "id": "762214b5",
   "metadata": {},
   "outputs": [
    {
     "data": {
      "image/png": "[encoded data removed]",
      "text/plain": [
       "<Figure size 640x480 with 1 Axes>"
      ]
     },
     "metadata": {},
     "output_type": "display_data"
    }
   ],
   "source": [
    "query = \"\"\"\n",
    "SELECT industry, SUM(amount) AS total_revenue\n",
    "FROM contacts\n",
    "JOIN deals USING (contact_id)\n",
    "GROUP BY industry\n",
    "ORDER BY total_revenue DESC\n",
    "LIMIT 5\n",
    "\"\"\"\n",
    "df = conn.execute(query).df()\n",
    "df.plot(kind='bar', x='industry', y='total_revenue', title='Top 5 Industries by Revenue')\n",
    "plt.show()"
   ]
  },
  {
   "cell_type": "markdown",
   "id": "a1f39d75",
   "metadata": {},
   "source": [
    "## Deal Closures Over Time"
   ]
  },
  {
   "cell_type": "code",
   "execution_count": 7,
   "id": "96c0ca24",
   "metadata": {},
   "outputs": [
    {
     "data": {
      "image/png": "[encoded data removed]",
      "text/plain": [
       "<Figure size 640x480 with 1 Axes>"
      ]
     },
     "metadata": {},
     "output_type": "display_data"
    }
   ],
   "source": [
    "query = \"\"\"\n",
    "SELECT strftime(close_date, '%Y-%m') AS month, SUM(amount) as total\n",
    "FROM deals\n",
    "GROUP BY month\n",
    "ORDER BY month\n",
    "\"\"\"\n",
    "df = conn.execute(query).df()\n",
    "df.plot(x='month', y='total', kind='line', title='Monthly Revenue')\n",
    "plt.show()"
   ]
  },
  {
   "cell_type": "markdown",
   "id": "6bf014a5",
   "metadata": {},
   "source": [
    "## Natural Language Style Insight\n",
    "\n",
    "**Question:** Which sales rep closed the most revenue from enterprise companies in Q1 2025?\n",
    "\n",
    "**SQL:**"
   ]
  },
  {
   "cell_type": "code",
   "execution_count": 12,
   "id": "52b9cee7",
   "metadata": {},
   "outputs": [
    {
     "data": {
      "application/vnd.microsoft.datawrangler.viewer.v0+json": {
       "columns": [
        {
         "name": "index",
         "rawType": "int64",
         "type": "integer"
        },
        {
         "name": "owner",
         "rawType": "object",
         "type": "string"
        },
        {
         "name": "total_revenue",
         "rawType": "float64",
         "type": "float"
        }
       ],
       "ref": "ef6d5fb4-7fb6-472a-962e-4ebea2b3f472",
       "rows": [
        [
         "0",
         "Diana",
         "455483.0"
        ],
        [
         "1",
         "Alice",
         "323488.0"
        ],
        [
         "2",
         "Bob",
         "250386.0"
        ],
        [
         "3",
         "Charlie",
         "172062.0"
        ]
       ],
       "shape": {
        "columns": 2,
        "rows": 4
       }
      },
      "text/html": [
       "<div>\n",
       "<style scoped>\n",
       "    .dataframe tbody tr th:only-of-type {\n",
       "        vertical-align: middle;\n",
       "    }\n",
       "\n",
       "    .dataframe tbody tr th {\n",
       "        vertical-align: top;\n",
       "    }\n",
       "\n",
       "    .dataframe thead th {\n",
       "        text-align: right;\n",
       "    }\n",
       "</style>\n",
       "<table border=\"1\" class=\"dataframe\">\n",
       "  <thead>\n",
       "    <tr style=\"text-align: right;\">\n",
       "      <th></th>\n",
       "      <th>owner</th>\n",
       "      <th>total_revenue</th>\n",
       "    </tr>\n",
       "  </thead>\n",
       "  <tbody>\n",
       "    <tr>\n",
       "      <th>0</th>\n",
       "      <td>Diana</td>\n",
       "      <td>455483.0</td>\n",
       "    </tr>\n",
       "    <tr>\n",
       "      <th>1</th>\n",
       "      <td>Alice</td>\n",
       "      <td>323488.0</td>\n",
       "    </tr>\n",
       "    <tr>\n",
       "      <th>2</th>\n",
       "      <td>Bob</td>\n",
       "      <td>250386.0</td>\n",
       "    </tr>\n",
       "    <tr>\n",
       "      <th>3</th>\n",
       "      <td>Charlie</td>\n",
       "      <td>172062.0</td>\n",
       "    </tr>\n",
       "  </tbody>\n",
       "</table>\n",
       "</div>"
      ],
      "text/plain": [
       "     owner  total_revenue\n",
       "0    Diana       455483.0\n",
       "1    Alice       323488.0\n",
       "2      Bob       250386.0\n",
       "3  Charlie       172062.0"
      ]
     },
     "execution_count": 12,
     "metadata": {},
     "output_type": "execute_result"
    }
   ],
   "source": [
    "conn.execute(\"\"\"\n",
    "SELECT owner, SUM(amount) AS total_revenue\n",
    "FROM deals \n",
    "JOIN enriched_contacts USING (contact_id)\n",
    "WHERE size_segment = 'Enterprise'\n",
    "GROUP BY owner\n",
    "ORDER BY total_revenue DESC\n",
    "\"\"\").df()"
   ]
  }
 ],
 "metadata": {
  "kernelspec": {
   "display_name": "base",
   "language": "python",
   "name": "python3"
  },
  "language_info": {
   "codemirror_mode": {
    "name": "ipython",
    "version": 3
   },
   "file_extension": ".py",
   "mimetype": "text/x-python",
   "name": "python",
   "nbconvert_exporter": "python",
   "pygments_lexer": "ipython3",
   "version": "3.12.3"
  }
 },
 "nbformat": 4,
 "nbformat_minor": 5
}
